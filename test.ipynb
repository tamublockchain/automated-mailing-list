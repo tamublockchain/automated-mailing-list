{
 "cells": [
  {
   "cell_type": "code",
   "execution_count": 1,
   "metadata": {},
   "outputs": [],
   "source": [
    "import os.path\n",
    "\n",
    "from google.auth.transport.requests import Request\n",
    "from google.oauth2.credentials import Credentials\n",
    "from google_auth_oauthlib.flow import InstalledAppFlow\n",
    "from googleapiclient.discovery import build\n",
    "from googleapiclient.errors import HttpError"
   ]
  },
  {
   "cell_type": "code",
   "execution_count": null,
   "metadata": {},
   "outputs": [],
   "source": [
    "SCOPES = ['https://www.googleapis.com/auth/contacts.readonly']"
   ]
  },
  {
   "cell_type": "code",
   "execution_count": null,
   "metadata": {},
   "outputs": [],
   "source": [
    "from apiclient import discovery\n",
    "from httplib2 import Http\n",
    "from oauth2client import client, file, tools\n",
    "\n",
    "SCOPES = \"https://www.googleapis.com/auth/forms.responses.readonly\"\n",
    "DISCOVERY_DOC = \"https://forms.googleapis.com/$discovery/rest?version=v1\"\n",
    "\n",
    "store = file.Storage('token.json')\n",
    "creds = None\n",
    "if not creds or creds.invalid:\n",
    "    flow = client.flow_from_clientsecrets('credentials.json', SCOPES)\n",
    "    flags = tools.argparser.parse_args(args=[])\n",
    "    creds = tools.run_flow(flow, store, flags)\n",
    "service = discovery.build('forms', 'v1', http=creds.authorize(\n",
    "    Http()), discoveryServiceUrl=DISCOVERY_DOC, static_discovery=False)\n",
    "\n",
    "# Prints the responses of your specified form:\n",
    "form_id = '1Is7U0kFZ7sxJJXxxWPEUHLZJzCUPDaOhbAPS5BNIPtc'\n",
    "result = service.forms().responses().list(formId=form_id).execute()\n",
    "print(result)"
   ]
  },
  {
   "cell_type": "code",
   "execution_count": null,
   "metadata": {},
   "outputs": [],
   "source": [
    "email_list = []\n",
    "for i in range(len(result[\"responses\"])):\n",
    "    email_list.append(result[\"responses\"][i][\"answers\"]['1092fe79'][\"textAnswers\"][\"answers\"][0][\"value\"])\n",
    "    print(result[\"responses\"][i][\"answers\"]['1092fe79'][\"textAnswers\"][\"answers\"][0][\"value\"])"
   ]
  },
  {
   "cell_type": "code",
   "execution_count": null,
   "metadata": {},
   "outputs": [],
   "source": [
    "email_list2 = []\n",
    "for e in email_list:\n",
    "    if len(e.split(\"@\")) == 2:\n",
    "        email_list2.append(e)"
   ]
  },
  {
   "cell_type": "code",
   "execution_count": null,
   "metadata": {},
   "outputs": [],
   "source": [
    "validated = []\n",
    "for e in email_list2:\n",
    "    if e.split(\"@\")[1] != \"gmail.com\" and e.split(\"@\")[1] != \"tamu.edu\":\n",
    "        #print(e)\n",
    "        validation = input(\"Is the following email valid? Type y or n\" + e)\n",
    "        if validation == \"y\":\n",
    "            print(\"Confirmed\")\n",
    "            validated.append(e)\n",
    "        else:\n",
    "            print(\"This email will not move on to further checks\")\n",
    "    else:\n",
    "        validated.append(e)"
   ]
  },
  {
   "cell_type": "code",
   "execution_count": null,
   "metadata": {},
   "outputs": [],
   "source": [
    "with open(\"add.txt\", \"a+\") as myfile:\n",
    "    myfile.write(\",\".join(map(str, validated))+\"\\n\")"
   ]
  },
  {
   "cell_type": "code",
   "execution_count": null,
   "metadata": {},
   "outputs": [],
   "source": [
    "import requests"
   ]
  },
  {
   "cell_type": "code",
   "execution_count": null,
   "metadata": {},
   "outputs": [],
   "source": [
    "js = {\"email\": \"liz@example.com\",\"role\": \"MEMBER\"}\n",
    "\n",
    "requests.post(\"https://admin.googleapis.com/admin/directory/v1/groups/tamublockchain/members\", json=js)"
   ]
  },
  {
   "cell_type": "code",
   "execution_count": null,
   "metadata": {},
   "outputs": [],
   "source": [
    "import os.path\n",
    "import requests\n",
    "from google.auth.transport.requests import Request\n",
    "from google.oauth2.credentials import Credentials\n",
    "from google_auth_oauthlib.flow import InstalledAppFlow\n",
    "from googleapiclient.discovery import build\n",
    "\n",
    "# If modifying these scopes, delete the file token.json.\n",
    "SCOPES = ['https://www.googleapis.com/auth/admin.directory.user']\n",
    "\n",
    "creds = None\n",
    "# The file token.json stores the user's access and refresh tokens, and is\n",
    "# created automatically when the authorization flow completes for the first\n",
    "# time.\n",
    "if os.path.exists('token.json'):\n",
    "    creds = Credentials.from_authorized_user_file('token.json', SCOPES)\n",
    "# If there are no (valid) credentials available, let the user log in.\n",
    "if not creds or not creds.valid:\n",
    "    if creds and creds.expired and creds.refresh_token:\n",
    "        creds.refresh(Request())\n",
    "    else:\n",
    "        flow = InstalledAppFlow.from_client_secrets_file(\n",
    "            'credentials.json', SCOPES)\n",
    "        creds = flow.run_local_server(port=0)\n",
    "    # Save the credentials for the next run\n",
    "    with open('token.json', 'w') as token:\n",
    "        token.write(creds.to_json())\n",
    "\n",
    "service = build('admin', 'directory_v1', credentials=creds)\n",
    "members = service.members()\n",
    "#Call the Admin SDK Directory API\n",
    "#body = {\"email\": \"liz@example.com\",\"role\": \"MEMBER\"}\n",
    "request = members.insert(groupKey=\"tamublockchain\").execute()"
   ]
  },
  {
   "cell_type": "code",
   "execution_count": null,
   "metadata": {},
   "outputs": [],
   "source": []
  }
 ],
 "metadata": {
  "kernelspec": {
   "display_name": "aml",
   "language": "python",
   "name": "python3"
  },
  "language_info": {
   "codemirror_mode": {
    "name": "ipython",
    "version": 3
   },
   "file_extension": ".py",
   "mimetype": "text/x-python",
   "name": "python",
   "nbconvert_exporter": "python",
   "pygments_lexer": "ipython3",
   "version": "3.10.9"
  },
  "orig_nbformat": 4,
  "vscode": {
   "interpreter": {
    "hash": "679e2dbed1c923e80d2d39574f9122e8360c0fdc3aa8571c1b1b27a58d8dc9e5"
   }
  }
 },
 "nbformat": 4,
 "nbformat_minor": 2
}
