{
 "cells": [
  {
   "cell_type": "code",
   "execution_count": 139,
   "metadata": {},
   "outputs": [],
   "source": [
    "import os.path\n",
    "\n",
    "from google.auth.transport.requests import Request\n",
    "from google.oauth2.credentials import Credentials\n",
    "from google_auth_oauthlib.flow import InstalledAppFlow\n",
    "from googleapiclient.discovery import build\n",
    "from googleapiclient.errors import HttpError"
   ]
  },
  {
   "cell_type": "code",
   "execution_count": 140,
   "metadata": {},
   "outputs": [],
   "source": [
    "SCOPES = ['https://www.googleapis.com/auth/contacts.readonly']"
   ]
  },
  {
   "cell_type": "code",
   "execution_count": 141,
   "metadata": {},
   "outputs": [
    {
     "name": "stdout",
     "output_type": "stream",
     "text": [
      "\n",
      "Your browser has been opened to visit:\n",
      "\n",
      "    https://accounts.google.com/o/oauth2/auth?client_id=85021226011-hrq4r33je15gprgu96ltbp5m890598rk.apps.googleusercontent.com&redirect_uri=http%3A%2F%2Flocalhost%3A8090%2F&scope=https%3A%2F%2Fwww.googleapis.com%2Fauth%2Fforms.responses.readonly&access_type=offline&response_type=code\n",
      "\n",
      "If your browser is on a different machine then exit and re-run this\n",
      "application with the command-line parameter\n",
      "\n",
      "  --noauth_local_webserver\n",
      "\n",
      "Authentication successful.\n",
      "{'responses': [{'responseId': 'ACYDBNjYNUFSClTP6FsLEbCm4uuhQhjAuWm4DpAXO-h3-KuPxU0P3ep_YSnc5dzV0dziu_g', 'createTime': '2023-01-23T19:39:23.261Z', 'lastSubmittedTime': '2023-01-23T19:39:23.261167Z', 'answers': {'1092fe79': {'questionId': '1092fe79', 'textAnswers': {'answers': [{'value': 'Ufoshantanu@gmail.com'}]}}}}, {'responseId': 'ACYDBNgeZkteSnW-wcYLGtN7Xoob3h_oMcSeZbgby_1cNNNpK8Bp_zYcUaZRZlHEiYpsJBY', 'createTime': '2023-01-23T03:27:01.491Z', 'lastSubmittedTime': '2023-01-23T03:27:01.491839Z', 'answers': {'1092fe79': {'questionId': '1092fe79', 'textAnswers': {'answers': [{'value': 'Seifeldin.Ahmed@tamu.edu'}]}}}}, {'responseId': 'ACYDBNi-bXTKOxDt3Kxev8cRgIiOT-Q4z_W9H26p3cYKYUHuYj4WjdQmPz_mDA5DCTVR89I', 'createTime': '2023-01-23T19:40:45.958Z', 'lastSubmittedTime': '2023-01-23T19:40:45.958159Z', 'answers': {'1092fe79': {'questionId': '1092fe79', 'textAnswers': {'answers': [{'value': 'johnsmithaidan1@gmail.com'}]}}}}, {'responseId': 'ACYDBNjbgtlvz2LC0QIhoRKKTZ9iTYa_klbFQP6HGcJTCzKfwa3J4LKLjhKj-1yy3EQwPJk', 'createTime': '2023-01-23T19:52:29.111Z', 'lastSubmittedTime': '2023-01-23T19:52:29.111551Z', 'answers': {'1092fe79': {'questionId': '1092fe79', 'textAnswers': {'answers': [{'value': 'Rueda.santiago@tamu.edu'}]}}}}, {'responseId': 'ACYDBNgzqmTaBNr0ZTYI3rREJZQ7krl19wXr1qzOEOr_Uiqr6N1eUofZ9AnRkp2fQZHavlM', 'createTime': '2023-01-23T19:37:30.144Z', 'lastSubmittedTime': '2023-01-23T19:37:30.144911Z', 'answers': {'1092fe79': {'questionId': '1092fe79', 'textAnswers': {'answers': [{'value': 'Andrew.mlin27@gmail.com'}]}}}}, {'responseId': 'ACYDBNhTKQUv0w998Nb-PYr9K6X8sdjjXrCxTI2IiMXJPW-KIdfpqUZgddaozVUGkTvNpxo', 'createTime': '2023-01-23T19:26:03.658Z', 'lastSubmittedTime': '2023-01-23T19:26:03.658015Z', 'answers': {'1092fe79': {'questionId': '1092fe79', 'textAnswers': {'answers': [{'value': 'sophiaramospaulin@gmail.com'}]}}}}, {'responseId': 'ACYDBNi2Axj4JvgtsseIi1kwcCmgoKW4MSZfUMLBBGuLlq8uftbhtGQboGTlQtri7YrPxNw', 'createTime': '2023-01-23T21:13:07.219Z', 'lastSubmittedTime': '2023-01-23T21:13:07.219247Z', 'answers': {'1092fe79': {'questionId': '1092fe79', 'textAnswers': {'answers': [{'value': 'Andrew.mlin27@gmail.com'}]}}}}, {'responseId': 'ACYDBNh13TvVBmdbQ8tpyLErYmCQv0pzjLgk1WjjsyB9zOulCRfkfRYGzWWzmSCFloUuLaI', 'createTime': '2023-01-23T19:35:59.877Z', 'lastSubmittedTime': '2023-01-23T19:35:59.877839Z', 'answers': {'1092fe79': {'questionId': '1092fe79', 'textAnswers': {'answers': [{'value': 'Jc94537@gmail.com'}]}}}}, {'responseId': 'ACYDBNi1pefNmDDP5I0ojR1rbAB8r8zoRS7dFPpAd3mzi4yIRdktvUh21H8MeTB-KRi8sF8', 'createTime': '2023-01-23T19:36:52.249Z', 'lastSubmittedTime': '2023-01-23T19:36:52.249471Z', 'answers': {'1092fe79': {'questionId': '1092fe79', 'textAnswers': {'answers': [{'value': 'kevtom2003tamu.edu'}]}}}}, {'responseId': 'ACYDBNiy6EsvivHDkoHuUo2DEzOkaR8hvfPpc22KkpWkrZq1jw_tRpQn6tQntMrPiqCWsMA', 'createTime': '2023-01-24T01:18:00.789Z', 'lastSubmittedTime': '2023-01-24T01:18:00.789887Z', 'answers': {'1092fe79': {'questionId': '1092fe79', 'textAnswers': {'answers': [{'value': 'sahildhana@tamu.edu'}]}}}}, {'responseId': 'ACYDBNiqFrKjAjjt9FCYmsBL-hp5bYhF9M4D-4IjAfSP11tn9jhtMcwlmIjJVqVJfbXa5NQ', 'createTime': '2023-01-23T03:18:51.401Z', 'lastSubmittedTime': '2023-01-23T03:18:51.401423Z', 'answers': {'1092fe79': {'questionId': '1092fe79', 'textAnswers': {'answers': [{'value': 'samueljosemolero@tamu.edu'}]}}}}, {'responseId': 'ACYDBNiwySRY_14Z3r0lNItcfOcD5pNhSrM-OE1a9elM53ImbmA0S8UcLBWWNEzrwrOxRLs', 'createTime': '2023-01-23T17:28:31.463Z', 'lastSubmittedTime': '2023-01-23T17:28:31.463247Z', 'answers': {'1092fe79': {'questionId': '1092fe79', 'textAnswers': {'answers': [{'value': 'aaronganus@tamu.edu'}]}}}}, {'responseId': 'ACYDBNhcnwuVyYXBMM8DGqWf-zEYf1ZH33vwTUy9YhQFpvtbJ-44yyk9-k3lVBIs2b08Rgw', 'createTime': '2023-01-23T23:05:52.044Z', 'lastSubmittedTime': '2023-01-23T23:05:52.044751Z', 'answers': {'1092fe79': {'questionId': '1092fe79', 'textAnswers': {'answers': [{'value': 'harsh_jan@tamu.edu'}]}}}}, {'responseId': 'ACYDBNjBGAx4E1Lt1SPiQ1MgWPWMgj2DeiTpFiKWKDOzdM8FwtMVPl2HhXwC2m3gCu9f0Wg', 'createTime': '2023-01-23T19:41:55.011Z', 'lastSubmittedTime': '2023-01-23T19:41:55.011407Z', 'answers': {'1092fe79': {'questionId': '1092fe79', 'textAnswers': {'answers': [{'value': 'kingofkings441'}]}}}}, {'responseId': 'ACYDBNgz-nv9qx3ilAZBLrIPmhcKsHUt4B599czdIkbGDY20rQX7q7tl4xjVPtxa3FmS9yg', 'createTime': '2023-01-22T23:49:35.271Z', 'lastSubmittedTime': '2023-01-22T23:49:35.271055Z', 'answers': {'1092fe79': {'questionId': '1092fe79', 'textAnswers': {'answers': [{'value': 'EduardoTrevino4696@tamu.edu'}]}}}}, {'responseId': 'ACYDBNiiWUvy8wNimvZPVoOd4WOhj3KB_c58qCd1WTkRpZRFvTePtgsnobPeboe7fs2aTmE', 'createTime': '2023-01-24T01:18:12.085Z', 'lastSubmittedTime': '2023-01-24T01:18:12.085983Z', 'answers': {'1092fe79': {'questionId': '1092fe79', 'textAnswers': {'answers': [{'value': 'jemcmillin1@tamu.edu'}]}}}}, {'responseId': 'ACYDBNgYBMJEys4b9jzYD1vgKSq4rkt7WHov60jZEX85wuXJDRdSNdIPxjYGFEgYlrGjc9w', 'createTime': '2023-01-23T19:36:33.271Z', 'lastSubmittedTime': '2023-01-23T19:36:33.271135Z', 'answers': {'1092fe79': {'questionId': '1092fe79', 'textAnswers': {'answers': [{'value': 'Kkathy101@tamu.edu'}]}}}}, {'responseId': 'ACYDBNhSdKCAp7F3cg5TCgFG9d2Z8moOLvZgCPp017bECN8HLU7nvv8h9jf9NYxuXYonnc0', 'createTime': '2023-01-24T02:28:53.247Z', 'lastSubmittedTime': '2023-01-24T02:28:53.247327Z', 'answers': {'1092fe79': {'questionId': '1092fe79', 'textAnswers': {'answers': [{'value': 'Vivek.somarapu@tamu.edu'}]}}}}, {'responseId': 'ACYDBNg3p4Fmxb-kaTTAwfHDngeVG2kqDVJepFsnkFVfOf9T2nemZ8FRmMlOqQRFFWYeSUY', 'createTime': '2023-01-23T19:45:39.737Z', 'lastSubmittedTime': '2023-01-23T19:45:39.737455Z', 'answers': {'1092fe79': {'questionId': '1092fe79', 'textAnswers': {'answers': [{'value': 'umasarkar@tamu.edu'}]}}}}, {'responseId': 'ACYDBNjanGSwtg-xoERjgmk8-vlyw0QlTAcvDkvKwOifiPbSNNiLTgfGJ2PtMxx8rLtlqMg', 'createTime': '2023-01-23T19:51:26.554Z', 'lastSubmittedTime': '2023-01-23T19:51:26.554735Z', 'answers': {'1092fe79': {'questionId': '1092fe79', 'textAnswers': {'answers': [{'value': 'nicksabs1992@tamu.edu'}]}}}}, {'responseId': 'ACYDBNjZA2sfIEuQMGSABWxeiza1GceSF5SHATJPj8zCloQQ8tbFlAcCmkWB_EK5V6X-PZ0', 'createTime': '2023-01-23T19:35:23.872Z', 'lastSubmittedTime': '2023-01-23T19:35:23.872511Z', 'answers': {'1092fe79': {'questionId': '1092fe79', 'textAnswers': {'answers': [{'value': 'axk1652@g.coppellisd.com'}]}}}}, {'responseId': 'ACYDBNhIiRDNUFFt6mE7KbvRrxUJ6po_r6Zl8SA2OYtpEAxoYr-bAsi9Cww3E6N3MuB8RaQ', 'createTime': '2023-01-23T22:21:41.374Z', 'lastSubmittedTime': '2023-01-23T22:21:41.374975Z', 'answers': {'1092fe79': {'questionId': '1092fe79', 'textAnswers': {'answers': [{'value': 'danibort@tamu.edu'}]}}}}, {'responseId': 'ACYDBNj5BbyGPAZu7unaRaHlzuN_fne4pEKIIfAsAPMBZv0yBSjAviYtA53HZCsqJax5-9k', 'createTime': '2023-01-18T20:36:51.293Z', 'lastSubmittedTime': '2023-01-18T20:36:51.293423Z', 'answers': {'1092fe79': {'questionId': '1092fe79', 'textAnswers': {'answers': [{'value': 'test@test.com'}]}}}}, {'responseId': 'ACYDBNhP9b8EfMwdE06Jgj28QuU73XaA65pZ0P6DiBBJ2SPPl1DrEJlctD71hzdEDiCxj_8', 'createTime': '2023-01-23T19:37:31.117Z', 'lastSubmittedTime': '2023-01-23T19:37:31.117839Z', 'answers': {'1092fe79': {'questionId': '1092fe79', 'textAnswers': {'answers': [{'value': 'rahul_2003@tamu.edu'}]}}}}, {'responseId': 'ACYDBNjU4Xfnoxn1BG8tQ_N87qtgBk9ZMII6wg2IPF22bDqFNDoZSzNP3IeT0W4Qbg0txlQ', 'createTime': '2023-01-19T20:03:20.452Z', 'lastSubmittedTime': '2023-01-19T20:03:20.452943Z', 'answers': {'1092fe79': {'questionId': '1092fe79', 'textAnswers': {'answers': [{'value': 'guidohm@tamu.edu'}]}}}}, {'responseId': 'ACYDBNixfoRFeFHoYs9Gu07DifiAw7uqJuJrm9oYsmstYLv7lRs6kY-3jJ0RshY5clXaKQk', 'createTime': '2023-01-23T19:42:04.513Z', 'lastSubmittedTime': '2023-01-23T19:42:04.513231Z', 'answers': {'1092fe79': {'questionId': '1092fe79', 'textAnswers': {'answers': [{'value': 'kristinelam@tamu.edu'}]}}}}, {'responseId': 'ACYDBNjz9bAbPOkuQ-1DPhSXv4zDaq_hP3SjAkJOf1338NCNu9kCWAOPe2Lf3vh6UvQd950', 'createTime': '2023-01-19T18:45:42.054Z', 'lastSubmittedTime': '2023-01-19T18:45:42.054095Z', 'answers': {'1092fe79': {'questionId': '1092fe79', 'textAnswers': {'answers': [{'value': 'amariwest19@tamu.edu'}]}}}}, {'responseId': 'ACYDBNjmLpKsDl3Th0OeGOOCbFANwvnGsXh2L_ocIOqgnxbCmlqJqIFxhaZpxEs2HJ17lkQ', 'createTime': '2023-01-23T20:38:06.653Z', 'lastSubmittedTime': '2023-01-23T20:38:06.653615Z', 'answers': {'1092fe79': {'questionId': '1092fe79', 'textAnswers': {'answers': [{'value': 'danibort@tamu.edu'}]}}}}, {'responseId': 'ACYDBNg49E5jZLHEjupVoCgifugl55dDi2ZzvNLDWMZJDMZP7gxVPDcXaHXGffePw-ItE-M', 'createTime': '2023-01-23T21:22:05.059Z', 'lastSubmittedTime': '2023-01-23T21:22:05.059455Z', 'answers': {'1092fe79': {'questionId': '1092fe79', 'textAnswers': {'answers': [{'value': 'alfaazazizali@tamu.edu'}]}}}}, {'responseId': 'ACYDBNhAOuTHgrWnWsCk8qRpeIFVumKTcm2PXichhXNszNw1ViMmufYdkPT7uAUlf54wQJM', 'createTime': '2023-01-23T19:52:36.201Z', 'lastSubmittedTime': '2023-01-23T19:52:36.201055Z', 'answers': {'1092fe79': {'questionId': '1092fe79', 'textAnswers': {'answers': [{'value': 'mjmde73@gmail.com'}]}}}}, {'responseId': 'ACYDBNjeBZH9I9k_mHZovlFzXF2mziBwe-XtoRDRYkA0-9dZ_aAw6xkj7JTUe7PFlVavpbk', 'createTime': '2023-01-23T19:47:05.215Z', 'lastSubmittedTime': '2023-01-23T19:47:05.215791Z', 'answers': {'1092fe79': {'questionId': '1092fe79', 'textAnswers': {'answers': [{'value': 'Tannersanderson2019@tamu.edu'}]}}}}, {'responseId': 'ACYDBNjGt0fVrjtbt2cbDi6TNsaB09Ap4cH03l6hrB-BTRwEobDq1rJxpyZxRR5pPbUOaHc', 'createTime': '2023-01-23T19:44:47.534Z', 'lastSubmittedTime': '2023-01-23T19:44:47.534671Z', 'answers': {'1092fe79': {'questionId': '1092fe79', 'textAnswers': {'answers': [{'value': 'alexandersaggi@gmail.com'}]}}}}, {'responseId': 'ACYDBNhC9rk8EogIxsOoo-GKOavVd0nFueX46gDYr172auWwCdMCaXtQjYSy1njgB_iUyV0', 'createTime': '2023-01-23T19:33:02.888Z', 'lastSubmittedTime': '2023-01-23T19:33:02.888815Z', 'answers': {'1092fe79': {'questionId': '1092fe79', 'textAnswers': {'answers': [{'value': 'Dross@tamu.edu'}]}}}}, {'responseId': 'ACYDBNiAIN9D1D7_XIEm8fiThdve1noVQWrQVDQD1BHH8eyROnB6w2FThwY_tTLLiGYIF4o', 'createTime': '2023-01-23T19:44:36.086Z', 'lastSubmittedTime': '2023-01-23T19:44:36.086207Z', 'answers': {'1092fe79': {'questionId': '1092fe79', 'textAnswers': {'answers': [{'value': 'kshaunfield@tamu.edu'}]}}}}, {'responseId': 'ACYDBNjgrBVZBr1mFGH_tpeU4u4X_KD1m2KewHqZhOkgt15CY-X2qv11BwynD-y8wiz8owE', 'createTime': '2023-01-23T14:21:56.299Z', 'lastSubmittedTime': '2023-01-23T14:21:56.299103Z', 'answers': {'1092fe79': {'questionId': '1092fe79', 'textAnswers': {'answers': [{'value': 'anirudh.margam@tamu.edu'}]}}}}, {'responseId': 'ACYDBNiQaYFw7CUetaBr_63pcIuIQg_wlixjMBXDBgthvJl_FcH16oFo_9aVCx9w-0kzmUY', 'createTime': '2023-01-23T19:46:17.792Z', 'lastSubmittedTime': '2023-01-23T19:46:17.792639Z', 'answers': {'1092fe79': {'questionId': '1092fe79', 'textAnswers': {'answers': [{'value': 'ferbrugo@tamu.edu '}]}}}}, {'responseId': 'ACYDBNhXBL58PgFH1CnHXscNNZo5dU6C64w0MvP8mipDF9tkb_ZEzQLFnTRMF22vZFczNxY', 'createTime': '2023-01-23T04:11:53.137Z', 'lastSubmittedTime': '2023-01-23T04:11:53.137743Z', 'answers': {'1092fe79': {'questionId': '1092fe79', 'textAnswers': {'answers': [{'value': 'd_pandyan@tamu.edu'}]}}}}, {'responseId': 'ACYDBNgfZFU9bcSmGnaPq9_14W5egAybAAvoqkQRlqdhcmaKQ2RPzXzFedpd1wh8NjlPV-U', 'createTime': '2023-01-24T01:19:06.323Z', 'lastSubmittedTime': '2023-01-24T01:19:06.323951Z', 'answers': {'1092fe79': {'questionId': '1092fe79', 'textAnswers': {'answers': [{'value': 'Jquintero9966@tamu.edu'}]}}}}, {'responseId': 'ACYDBNhdEnQcO5k1GjHTk0aQ1Mo1kjZUruN2GTf_PwNIn2yoxJmjQ6A9qrVokwbPv1gMn18', 'createTime': '2023-01-23T22:41:08.818Z', 'lastSubmittedTime': '2023-01-23T22:41:08.818927Z', 'answers': {'1092fe79': {'questionId': '1092fe79', 'textAnswers': {'answers': [{'value': 'Adigo@tamu.edu'}]}}}}, {'responseId': 'ACYDBNhjiKNQfcJYzj_KAujQM8lBCwPWXl_Xjj2UEShLUn8de-pfAuOBgDqvqIhSvLqTjy8', 'createTime': '2023-01-22T22:59:29.260Z', 'lastSubmittedTime': '2023-01-22T22:59:29.260111Z', 'answers': {'1092fe79': {'questionId': '1092fe79', 'textAnswers': {'answers': [{'value': 'oliviarichert77@gmail.com'}]}}}}, {'responseId': 'ACYDBNhK6iScCRZ1oaVemWO6UzUrzzbFFBX-LgUaJtUxRd7qwkb3o70ZWYu_90t6oVhBMn4', 'createTime': '2023-01-23T19:39:24.345Z', 'lastSubmittedTime': '2023-01-23T19:39:24.345199Z', 'answers': {'1092fe79': {'questionId': '1092fe79', 'textAnswers': {'answers': [{'value': 'veeramallumounika456@gmail.com'}]}}}}, {'responseId': 'ACYDBNhr1vhVhB1CVUdbIxC-lT4ACsoKmC2tiRUG6WPXsF4YdUqb7aXyeuXOOOcn3rIxOJ8', 'createTime': '2023-01-23T19:46:56.861Z', 'lastSubmittedTime': '2023-01-23T19:46:56.861871Z', 'answers': {'1092fe79': {'questionId': '1092fe79', 'textAnswers': {'answers': [{'value': 'solaobaju@tamu.edu'}]}}}}, {'responseId': 'ACYDBNhKVYJm4GABtNIQH0xqWCSp0_mqfIp4zDVU-QaD4-iXh5N1-PXt2T_mw4LNAw26UTM', 'createTime': '2023-01-22T20:26:01.769Z', 'lastSubmittedTime': '2023-01-22T20:26:01.769775Z', 'answers': {'1092fe79': {'questionId': '1092fe79', 'textAnswers': {'answers': [{'value': 'Adigo@tamu.edu'}]}}}}]}\n"
     ]
    }
   ],
   "source": [
    "from apiclient import discovery\n",
    "from httplib2 import Http\n",
    "from oauth2client import client, file, tools\n",
    "\n",
    "SCOPES = \"https://www.googleapis.com/auth/forms.responses.readonly\"\n",
    "DISCOVERY_DOC = \"https://forms.googleapis.com/$discovery/rest?version=v1\"\n",
    "\n",
    "store = file.Storage('token.json')\n",
    "creds = None\n",
    "if not creds or creds.invalid:\n",
    "    flow = client.flow_from_clientsecrets('credentials.json', SCOPES)\n",
    "    flags = tools.argparser.parse_args(args=[])\n",
    "    creds = tools.run_flow(flow, store, flags)\n",
    "service = discovery.build('forms', 'v1', http=creds.authorize(\n",
    "    Http()), discoveryServiceUrl=DISCOVERY_DOC, static_discovery=False)\n",
    "\n",
    "# Prints the responses of your specified form:\n",
    "form_id = '1Is7U0kFZ7sxJJXxxWPEUHLZJzCUPDaOhbAPS5BNIPtc'\n",
    "result = service.forms().responses().list(formId=form_id).execute()\n",
    "print(result)"
   ]
  },
  {
   "cell_type": "code",
   "execution_count": 142,
   "metadata": {},
   "outputs": [
    {
     "name": "stdout",
     "output_type": "stream",
     "text": [
      "Ufoshantanu@gmail.com\n",
      "Seifeldin.Ahmed@tamu.edu\n",
      "johnsmithaidan1@gmail.com\n",
      "Rueda.santiago@tamu.edu\n",
      "Andrew.mlin27@gmail.com\n",
      "sophiaramospaulin@gmail.com\n",
      "Andrew.mlin27@gmail.com\n",
      "Jc94537@gmail.com\n",
      "kevtom2003tamu.edu\n",
      "sahildhana@tamu.edu\n",
      "samueljosemolero@tamu.edu\n",
      "aaronganus@tamu.edu\n",
      "harsh_jan@tamu.edu\n",
      "kingofkings441\n",
      "EduardoTrevino4696@tamu.edu\n",
      "jemcmillin1@tamu.edu\n",
      "Kkathy101@tamu.edu\n",
      "Vivek.somarapu@tamu.edu\n",
      "umasarkar@tamu.edu\n",
      "nicksabs1992@tamu.edu\n",
      "axk1652@g.coppellisd.com\n",
      "danibort@tamu.edu\n",
      "test@test.com\n",
      "rahul_2003@tamu.edu\n",
      "guidohm@tamu.edu\n",
      "kristinelam@tamu.edu\n",
      "amariwest19@tamu.edu\n",
      "danibort@tamu.edu\n",
      "alfaazazizali@tamu.edu\n",
      "mjmde73@gmail.com\n",
      "Tannersanderson2019@tamu.edu\n",
      "alexandersaggi@gmail.com\n",
      "Dross@tamu.edu\n",
      "kshaunfield@tamu.edu\n",
      "anirudh.margam@tamu.edu\n",
      "ferbrugo@tamu.edu \n",
      "d_pandyan@tamu.edu\n",
      "Jquintero9966@tamu.edu\n",
      "Adigo@tamu.edu\n",
      "oliviarichert77@gmail.com\n",
      "veeramallumounika456@gmail.com\n",
      "solaobaju@tamu.edu\n",
      "Adigo@tamu.edu\n"
     ]
    }
   ],
   "source": [
    "email_list = []\n",
    "for i in range(len(result[\"responses\"])):\n",
    "    email_list.append(result[\"responses\"][i][\"answers\"]['1092fe79'][\"textAnswers\"][\"answers\"][0][\"value\"])\n",
    "    print(result[\"responses\"][i][\"answers\"]['1092fe79'][\"textAnswers\"][\"answers\"][0][\"value\"])"
   ]
  },
  {
   "cell_type": "code",
   "execution_count": 143,
   "metadata": {},
   "outputs": [],
   "source": [
    "email_list2 = []\n",
    "for e in email_list:\n",
    "    if len(e.split(\"@\")) == 2:\n",
    "        email_list2.append(e)"
   ]
  },
  {
   "cell_type": "code",
   "execution_count": 144,
   "metadata": {},
   "outputs": [
    {
     "name": "stdout",
     "output_type": "stream",
     "text": [
      "Confirmed\n",
      "This email will not move on to further checks\n",
      "Confirmed\n"
     ]
    }
   ],
   "source": [
    "validated = []\n",
    "for e in email_list2:\n",
    "    if e.split(\"@\")[1] != \"gmail.com\" and e.split(\"@\")[1] != \"tamu.edu\":\n",
    "        #print(e)\n",
    "        validation = input(\"Is the following email valid? Type y or n\" + e)\n",
    "        if validation == \"y\":\n",
    "            print(\"Confirmed\")\n",
    "            validated.append(e)\n",
    "        else:\n",
    "            print(\"This email will not move on to further checks\")\n",
    "    else:\n",
    "        validated.append(e)"
   ]
  },
  {
   "cell_type": "code",
   "execution_count": 151,
   "metadata": {},
   "outputs": [],
   "source": [
    "with open(\"add.txt\", \"a+\") as myfile:\n",
    "    myfile.write(\",\".join(map(str, validated))+\"\\n\")"
   ]
  },
  {
   "cell_type": "code",
   "execution_count": null,
   "metadata": {},
   "outputs": [],
   "source": [
    "import requests"
   ]
  },
  {
   "cell_type": "code",
   "execution_count": null,
   "metadata": {},
   "outputs": [],
   "source": [
    "js = {\"email\": \"liz@example.com\",\"role\": \"MEMBER\"}\n",
    "\n",
    "requests.post(\"https://admin.googleapis.com/admin/directory/v1/groups/tamublockchain/members\", json=js)"
   ]
  },
  {
   "cell_type": "code",
   "execution_count": null,
   "metadata": {},
   "outputs": [],
   "source": [
    "import os.path\n",
    "import requests\n",
    "from google.auth.transport.requests import Request\n",
    "from google.oauth2.credentials import Credentials\n",
    "from google_auth_oauthlib.flow import InstalledAppFlow\n",
    "from googleapiclient.discovery import build\n",
    "\n",
    "# If modifying these scopes, delete the file token.json.\n",
    "SCOPES = ['https://www.googleapis.com/auth/admin.directory.user']\n",
    "\n",
    "creds = None\n",
    "# The file token.json stores the user's access and refresh tokens, and is\n",
    "# created automatically when the authorization flow completes for the first\n",
    "# time.\n",
    "if os.path.exists('token.json'):\n",
    "    creds = Credentials.from_authorized_user_file('token.json', SCOPES)\n",
    "# If there are no (valid) credentials available, let the user log in.\n",
    "if not creds or not creds.valid:\n",
    "    if creds and creds.expired and creds.refresh_token:\n",
    "        creds.refresh(Request())\n",
    "    else:\n",
    "        flow = InstalledAppFlow.from_client_secrets_file(\n",
    "            'credentials.json', SCOPES)\n",
    "        creds = flow.run_local_server(port=0)\n",
    "    # Save the credentials for the next run\n",
    "    with open('token.json', 'w') as token:\n",
    "        token.write(creds.to_json())\n",
    "\n",
    "service = build('admin', 'directory_v1', credentials=creds)\n",
    "members = service.members()\n",
    "#Call the Admin SDK Directory API\n",
    "#body = {\"email\": \"liz@example.com\",\"role\": \"MEMBER\"}\n",
    "request = members.insert(groupKey=\"tamublockchain\").execute()"
   ]
  },
  {
   "cell_type": "code",
   "execution_count": null,
   "metadata": {},
   "outputs": [],
   "source": []
  }
 ],
 "metadata": {
  "kernelspec": {
   "display_name": "aml",
   "language": "python",
   "name": "python3"
  },
  "language_info": {
   "codemirror_mode": {
    "name": "ipython",
    "version": 3
   },
   "file_extension": ".py",
   "mimetype": "text/x-python",
   "name": "python",
   "nbconvert_exporter": "python",
   "pygments_lexer": "ipython3",
   "version": "3.10.9 (main, Jan 11 2023, 09:18:18) [Clang 14.0.6 ]"
  },
  "orig_nbformat": 4,
  "vscode": {
   "interpreter": {
    "hash": "679e2dbed1c923e80d2d39574f9122e8360c0fdc3aa8571c1b1b27a58d8dc9e5"
   }
  }
 },
 "nbformat": 4,
 "nbformat_minor": 2
}
